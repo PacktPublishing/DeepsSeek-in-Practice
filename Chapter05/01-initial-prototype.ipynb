{
 "cells": [
  {
   "cell_type": "code",
   "execution_count": 1,
   "id": "c278ec43",
   "metadata": {},
   "outputs": [
    {
     "data": {
      "text/plain": [
       "True"
      ]
     },
     "execution_count": 1,
     "metadata": {},
     "output_type": "execute_result"
    }
   ],
   "source": [
    "import jupyter_black\n",
    "from dotenv import load_dotenv\n",
    "from garminconnect import Garmin\n",
    "import os\n",
    "import datetime\n",
    "from typing import Any\n",
    "import numpy as np\n",
    "from pydantic import BaseModel, Field\n",
    "from openai import OpenAI\n",
    "from enum import Enum\n",
    "import json\n",
    "from typing import Literal\n",
    "\n",
    "jupyter_black.load()\n",
    "load_dotenv(\".envrc\", override=True)"
   ]
  },
  {
   "cell_type": "markdown",
   "id": "5d1c1b0e",
   "metadata": {},
   "source": [
    "# GET GARMIN DETAILS"
   ]
  },
  {
   "cell_type": "code",
   "execution_count": 2,
   "id": "35de9b33",
   "metadata": {},
   "outputs": [],
   "source": [
    "GARMIN_EMAIL = os.getenv(\"GARMIN_EMAIL\")\n",
    "GARMIN_PASSWORD = os.getenv(\"GARMIN_PASSWORD\")\n",
    "GARMIN_TOKENSTORE = os.getenv(\"GARMIN_TOKENSTORE\")"
   ]
  },
  {
   "cell_type": "code",
   "execution_count": 3,
   "id": "f3aadc39",
   "metadata": {},
   "outputs": [
    {
     "name": "stdout",
     "output_type": "stream",
     "text": [
      "~/.garminconnect_vittoria\n"
     ]
    }
   ],
   "source": [
    "print(GARMIN_TOKENSTORE)"
   ]
  },
  {
   "cell_type": "code",
   "execution_count": 4,
   "id": "3f9af62b",
   "metadata": {},
   "outputs": [],
   "source": [
    "def start_garmin() -> Garmin:\n",
    "    \"\"\"Initialize Garmin connection.\"\"\"\n",
    "    try:\n",
    "        GARMIN = Garmin()\n",
    "        GARMIN.login(GARMIN_TOKENSTORE)\n",
    "        print(\"Logged in with token store\")\n",
    "        return GARMIN\n",
    "    except Exception as e:\n",
    "        print(f\"Could not login with token store: {e}\")\n",
    "\n",
    "    try:\n",
    "        GARMIN = Garmin(\n",
    "            email=GARMIN_EMAIL,\n",
    "            password=GARMIN_PASSWORD,\n",
    "            is_cn=False,\n",
    "        )\n",
    "        GARMIN.login()\n",
    "        GARMIN.garth.dump(GARMIN_TOKENSTORE)\n",
    "        return GARMIN\n",
    "    except Exception as e:\n",
    "        print(f\"Could not login with email and password: {e}\")\n",
    "        raise"
   ]
  },
  {
   "cell_type": "code",
   "execution_count": 5,
   "id": "78e74e2c",
   "metadata": {},
   "outputs": [
    {
     "name": "stdout",
     "output_type": "stream",
     "text": [
      "Could not login with token store: [Errno 2] No such file or directory: '/Users/duarteocarmo/.garminconnect_vittoria/oauth1_token.json'\n"
     ]
    }
   ],
   "source": [
    "garmin = start_garmin()"
   ]
  },
  {
   "cell_type": "markdown",
   "id": "0dc4486c",
   "metadata": {},
   "source": [
    "# GET SUMMARY OF HEALTH DATA FOR AN INTERVAL OF DAYS"
   ]
  },
  {
   "cell_type": "code",
   "execution_count": 6,
   "id": "65373ac6",
   "metadata": {},
   "outputs": [],
   "source": [
    "def get_daily_health_summary(\n",
    "    api: Any, start: datetime.date, end: datetime.date\n",
    ") -> list[dict[str, Any]]:\n",
    "    \"\"\"\n",
    "    One dict per day using get_user_summary() where possible.\n",
    "    Fields: resting_heart_rate, exercise_minutes, stress_level, sleep_hours, sleep_score, steps, body_battery_final\n",
    "    \"\"\"\n",
    "\n",
    "    def dstr(d: datetime.date) -> str:\n",
    "        return d.isoformat()\n",
    "\n",
    "    def daterange(a: datetime.date, b: datetime.date):\n",
    "        for i in range((b - a).days + 1):\n",
    "            yield a + datetime.timedelta(days=i)\n",
    "\n",
    "    out: list[dict[str, Any]] = []\n",
    "\n",
    "    for day in daterange(start, end):\n",
    "        s = dstr(day)\n",
    "        day_of_week = day.strftime(\"%A\")\n",
    "        summary = api.get_user_summary(s) or {}\n",
    "        rhr = summary.get(\"restingHeartRate\")\n",
    "        steps = summary.get(\"totalSteps\")\n",
    "        stress_level = summary.get(\"averageStressLevel\")\n",
    "        body_battery_final = summary.get(\"bodyBatteryMostRecentValue\") or summary.get(\n",
    "            \"mostRecentBodyBattery\"\n",
    "        )\n",
    "        exercise_minutes = (summary.get(\"moderateIntensityMinutes\") or 0) + (\n",
    "            summary.get(\"vigorousIntensityMinutes\") or 0\n",
    "        )\n",
    "        sleep_seconds = summary.get(\"sleepingSeconds\")\n",
    "        sleep_hours = round(sleep_seconds / 3600, 2)\n",
    "        body_battery_start = summary.get(\"bodyBatteryAtWakeTime\")\n",
    "        total_distance_meters = summary.get(\"totalDistanceMeters\")\n",
    "\n",
    "        out.append(\n",
    "            {\n",
    "                \"date\": s,\n",
    "                \"day_of_week\": day_of_week,\n",
    "                \"resting_heart_rate\": rhr,\n",
    "                \"exercise_minutes\": exercise_minutes,\n",
    "                \"stress_level\": stress_level,\n",
    "                \"sleep_hours\": sleep_hours,\n",
    "                \"steps\": steps,\n",
    "                \"total_distance_meters\": total_distance_meters,\n",
    "                \"body_battery_start_day\": body_battery_start,\n",
    "                \"body_battery_end_day\": body_battery_final,\n",
    "            }\n",
    "        )\n",
    "\n",
    "    return out"
   ]
  },
  {
   "cell_type": "code",
   "execution_count": 7,
   "id": "f96dc463",
   "metadata": {},
   "outputs": [
    {
     "data": {
      "text/plain": [
       "[{'date': '2025-08-13',\n",
       "  'day_of_week': 'Wednesday',\n",
       "  'resting_heart_rate': 62,\n",
       "  'exercise_minutes': 0,\n",
       "  'stress_level': 38,\n",
       "  'sleep_hours': 9.09,\n",
       "  'steps': 1866,\n",
       "  'total_distance_meters': 1387,\n",
       "  'body_battery_start_day': 74,\n",
       "  'body_battery_end_day': 17}]"
      ]
     },
     "execution_count": 7,
     "metadata": {},
     "output_type": "execute_result"
    }
   ],
   "source": [
    "yesterday = datetime.date.today() - datetime.timedelta(days=1)\n",
    "summary_for_yesterday = get_daily_health_summary(garmin, yesterday, yesterday)\n",
    "summary_for_yesterday"
   ]
  },
  {
   "cell_type": "code",
   "execution_count": 8,
   "id": "ecd477f8",
   "metadata": {},
   "outputs": [
    {
     "data": {
      "text/plain": [
       "[{'date': '2025-08-06',\n",
       "  'day_of_week': 'Wednesday',\n",
       "  'resting_heart_rate': 58,\n",
       "  'exercise_minutes': 3,\n",
       "  'stress_level': 32,\n",
       "  'sleep_hours': 8.17,\n",
       "  'steps': 5320,\n",
       "  'total_distance_meters': 3953,\n",
       "  'body_battery_start_day': 97,\n",
       "  'body_battery_end_day': 20},\n",
       " {'date': '2025-08-07',\n",
       "  'day_of_week': 'Thursday',\n",
       "  'resting_heart_rate': 54,\n",
       "  'exercise_minutes': 0,\n",
       "  'stress_level': 30,\n",
       "  'sleep_hours': 7.45,\n",
       "  'steps': 8859,\n",
       "  'total_distance_meters': 6583,\n",
       "  'body_battery_start_day': 89,\n",
       "  'body_battery_end_day': 25},\n",
       " {'date': '2025-08-08',\n",
       "  'day_of_week': 'Friday',\n",
       "  'resting_heart_rate': 52,\n",
       "  'exercise_minutes': 2,\n",
       "  'stress_level': 29,\n",
       "  'sleep_hours': 6.72,\n",
       "  'steps': 12772,\n",
       "  'total_distance_meters': 9498,\n",
       "  'body_battery_start_day': 98,\n",
       "  'body_battery_end_day': 20},\n",
       " {'date': '2025-08-09',\n",
       "  'day_of_week': 'Saturday',\n",
       "  'resting_heart_rate': 54,\n",
       "  'exercise_minutes': 0,\n",
       "  'stress_level': 26,\n",
       "  'sleep_hours': 6.7,\n",
       "  'steps': 2309,\n",
       "  'total_distance_meters': 1716,\n",
       "  'body_battery_start_day': 96,\n",
       "  'body_battery_end_day': 26},\n",
       " {'date': '2025-08-10',\n",
       "  'day_of_week': 'Sunday',\n",
       "  'resting_heart_rate': 55,\n",
       "  'exercise_minutes': 16,\n",
       "  'stress_level': 36,\n",
       "  'sleep_hours': 9.2,\n",
       "  'steps': 7719,\n",
       "  'total_distance_meters': 5756,\n",
       "  'body_battery_start_day': 94,\n",
       "  'body_battery_end_day': 19},\n",
       " {'date': '2025-08-11',\n",
       "  'day_of_week': 'Monday',\n",
       "  'resting_heart_rate': 58,\n",
       "  'exercise_minutes': 0,\n",
       "  'stress_level': 29,\n",
       "  'sleep_hours': 9.84,\n",
       "  'steps': 2443,\n",
       "  'total_distance_meters': 1823,\n",
       "  'body_battery_start_day': 95,\n",
       "  'body_battery_end_day': 32},\n",
       " {'date': '2025-08-12',\n",
       "  'day_of_week': 'Tuesday',\n",
       "  'resting_heart_rate': 60,\n",
       "  'exercise_minutes': 0,\n",
       "  'stress_level': 40,\n",
       "  'sleep_hours': 9.42,\n",
       "  'steps': 3615,\n",
       "  'total_distance_meters': 2686,\n",
       "  'body_battery_start_day': 81,\n",
       "  'body_battery_end_day': 20}]"
      ]
     },
     "execution_count": 8,
     "metadata": {},
     "output_type": "execute_result"
    }
   ],
   "source": [
    "yesterday = datetime.date.today() - datetime.timedelta(days=1)\n",
    "past_7_days_start = yesterday - datetime.timedelta(days=7)\n",
    "past_7_days_end = yesterday - datetime.timedelta(days=1)\n",
    "summary_for_past_7_days = get_daily_health_summary(\n",
    "    garmin, past_7_days_start, past_7_days_end\n",
    ")\n",
    "summary_for_past_7_days"
   ]
  },
  {
   "cell_type": "markdown",
   "id": "1a566fde",
   "metadata": {},
   "source": [
    "# BUILD TRENDS AND PROMPT FOR DEEPSEEK"
   ]
  },
  {
   "cell_type": "code",
   "execution_count": 9,
   "id": "b2769659",
   "metadata": {},
   "outputs": [
    {
     "name": "stdout",
     "output_type": "stream",
     "text": [
      "# Daily Metrics Summary for 2025-08-13 (Wednesday)\n",
      "_Note: All comparisons use the **previous 7 days only**, excluding today._\n",
      "\n",
      "## Resting Heart Rate\n",
      "- Today's value (2025-08-13): 62\n",
      "- 7-day baseline average (excluding today): 55.86\n",
      "- Percent change vs. baseline: +11.0%\n",
      "- Trend over previous 7 days: up ↑\n",
      "- Better is lower: True\n",
      "\n",
      "## Exercise Minutes\n",
      "- Today's value (2025-08-13): 0\n",
      "- 7-day baseline average (excluding today): 3.00\n",
      "- Percent change vs. baseline: -100.0%\n",
      "- Trend over previous 7 days: up ↑\n",
      "- Better is lower: False\n",
      "\n",
      "## Stress Level\n",
      "- Today's value (2025-08-13): 38\n",
      "- 7-day baseline average (excluding today): 31.71\n",
      "- Percent change vs. baseline: +19.8%\n",
      "- Trend over previous 7 days: up ↑\n",
      "- Better is lower: True\n",
      "\n",
      "## Sleep Hours\n",
      "- Today's value (2025-08-13): 9.09\n",
      "- 7-day baseline average (excluding today): 8.21\n",
      "- Percent change vs. baseline: +10.7%\n",
      "- Trend over previous 7 days: up ↑\n",
      "- Better is lower: False\n",
      "\n",
      "## Steps\n",
      "- Today's value (2025-08-13): 1866\n",
      "- 7-day baseline average (excluding today): 6148.14\n",
      "- Percent change vs. baseline: -69.6%\n",
      "- Trend over previous 7 days: down ↓\n",
      "- Better is lower: False\n",
      "\n",
      "## Total Distance Meters\n",
      "- Today's value (2025-08-13): 1387\n",
      "- 7-day baseline average (excluding today): 4573.57\n",
      "- Percent change vs. baseline: -69.7%\n",
      "- Trend over previous 7 days: down ↓\n",
      "- Better is lower: False\n",
      "\n",
      "## Body Battery Start Day\n",
      "- Today's value (2025-08-13): 74\n",
      "- 7-day baseline average (excluding today): 92.86\n",
      "- Percent change vs. baseline: -20.3%\n",
      "- Trend over previous 7 days: flat →\n",
      "- Better is lower: False\n",
      "\n",
      "## Body Battery End Day\n",
      "- Today's value (2025-08-13): 17\n",
      "- 7-day baseline average (excluding today): 23.14\n",
      "- Percent change vs. baseline: -26.5%\n",
      "- Trend over previous 7 days: up ↑\n",
      "- Better is lower: False\n",
      "\n"
     ]
    }
   ],
   "source": [
    "def detect_trend(values, pct_threshold=5):\n",
    "    recent, earlier = np.mean(values[-3:]), np.mean(values[:3])\n",
    "    return (\n",
    "        \"up\"\n",
    "        if recent > earlier * (1 + pct_threshold / 100)\n",
    "        else (\"down\" if recent < earlier * (1 - pct_threshold / 100) else \"flat\")\n",
    "    )\n",
    "\n",
    "\n",
    "def build_llm_context_md(\n",
    "    summary_for_today: list[dict], summary_for_past_7_days: list[dict]\n",
    ") -> str:\n",
    "    \"\"\"\n",
    "    Creates a Markdown-formatted context string for an LLM.\n",
    "    Clarifies:\n",
    "    - The \"7-day average\" excludes today's value\n",
    "    - The trend is based on the 7 days before today\n",
    "    - Percent change is relative to that 7-day average\n",
    "    \"\"\"\n",
    "    assert len(summary_for_today) == 1, \"Expected 1 day of summary\"\n",
    "    today = summary_for_today[0]\n",
    "\n",
    "    metrics = [key for key in today.keys() if key not in [\"date\", \"day_of_week\"]]\n",
    "    lines = [\n",
    "        f\"# Daily Metrics Summary for {today['date']} ({today['day_of_week']})\",\n",
    "        \"_Note: All comparisons use the **previous 7 days only**, excluding today._\",\n",
    "        \"\",\n",
    "    ]\n",
    "\n",
    "    better_is_lower = [\n",
    "        \"resting_heart_rate\",\n",
    "        \"stress_level\",\n",
    "    ]\n",
    "\n",
    "    for metric in metrics:\n",
    "        today_val = today[metric]\n",
    "        past_vals = [\n",
    "            day[metric] for day in summary_for_past_7_days if day[metric] is not None\n",
    "        ]\n",
    "        avg_7d = sum(past_vals) / len(past_vals) if past_vals else 0\n",
    "        delta_pct = ((today_val - avg_7d) / avg_7d * 100) if avg_7d else 0\n",
    "        trend_dir = detect_trend(past_vals)\n",
    "        arrow = \"↑\" if trend_dir == \"up\" else (\"↓\" if trend_dir == \"down\" else \"→\")\n",
    "\n",
    "        lines.append(\n",
    "            f\"## {metric.replace('_', ' ').title()}\\n\"\n",
    "            f\"- Today's value ({today['date']}): {today_val}\\n\"\n",
    "            f\"- 7-day baseline average (excluding today): {avg_7d:.2f}\\n\"\n",
    "            f\"- Percent change vs. baseline: {delta_pct:+.1f}%\\n\"\n",
    "            f\"- Trend over previous 7 days: {trend_dir} {arrow}\\n\"\n",
    "            f\"- Better is lower: {metric in better_is_lower}\\n\"\n",
    "        )\n",
    "\n",
    "    return \"\\n\".join(lines)\n",
    "\n",
    "\n",
    "prompt = build_llm_context_md(summary_for_yesterday, summary_for_past_7_days)\n",
    "\n",
    "print(prompt)"
   ]
  },
  {
   "cell_type": "markdown",
   "id": "dd001af0",
   "metadata": {},
   "source": [
    "# DEFINE OUR STRUCTURED OUTPUT"
   ]
  },
  {
   "cell_type": "code",
   "execution_count": 10,
   "id": "4ddb048a",
   "metadata": {},
   "outputs": [],
   "source": [
    "class DayType(str, Enum):\n",
    "    TRAINING = \"training\"\n",
    "    ACTIVE_RECOVERY = \"active_recovery\"\n",
    "    REST = \"rest\"\n",
    "    HIGH_STRESS = \"high_stress\"\n",
    "    BALANCED = \"balanced\"\n",
    "\n",
    "\n",
    "class DailySummary(BaseModel):\n",
    "    day_type: DayType = Field(\n",
    "        ...,\n",
    "        description=\"Classification of the day based on activity and recovery metrics\",\n",
    "    )\n",
    "\n",
    "    title: str = Field(..., description=\"One sentence summary of the day\")\n",
    "    emoji: str = Field(..., description=\"Emoji to represent the day type\")\n",
    "    observation: str = Field(\n",
    "        ...,\n",
    "        description=\"Two sentence observation about key metrics and patterns\",\n",
    "    )\n",
    "    recommendation: str = Field(\n",
    "        ...,\n",
    "        description=\"Two sentence actionable recommendation for tomorrow\",\n",
    "    )"
   ]
  },
  {
   "cell_type": "code",
   "execution_count": 11,
   "id": "765e6da6",
   "metadata": {},
   "outputs": [],
   "source": [
    "training_day_example = DailySummary(\n",
    "    day_type=DayType.TRAINING,\n",
    "    title=\"Strong training day with elevated activity across all metrics.\",\n",
    "    emoji=\"💪\",\n",
    "    observation=\"Exercise minutes doubled your baseline with 95 minutes of activity, supported by 18,500 steps. Despite the high training load, body battery started at a solid 85, indicating good recovery from yesterday.\",\n",
    "    recommendation=\"Consider an active recovery or rest day tomorrow to allow adaptation from today's effort. Prioritize sleep tonight to maintain your body battery levels and support muscle recovery.\",\n",
    ")\n",
    "\n",
    "# Example 2: High Stress Day\n",
    "high_stress_day_example = DailySummary(\n",
    "    day_type=DayType.HIGH_STRESS,\n",
    "    emoji=\"😫\",\n",
    "    title=\"Elevated stress and poor recovery despite minimal physical activity.\",\n",
    "    observation=\"Stress levels jumped 46% above baseline while sleep dropped to just 6.1 hours, resulting in a low body battery start of 45. Exercise and movement were minimal, suggesting stress is from non-physical sources.\",\n",
    "    recommendation=\"Focus on stress management techniques and aim for 8+ hours of sleep tonight. Consider light exercise like walking or yoga tomorrow, as gentle movement can help regulate stress levels.\",\n",
    ")\n",
    "examples = [training_day_example, high_stress_day_example]\n",
    "examples_str = \"\\n\\n\\n\".join([example.model_dump_json() for example in examples])"
   ]
  },
  {
   "cell_type": "code",
   "execution_count": 12,
   "id": "0b7dc314",
   "metadata": {},
   "outputs": [],
   "source": [
    "system_prompt = f\"\"\"\n",
    "Instructions: \n",
    "* You will be given a summary of the user's health and fitness data for today, in comparison to the past 7 days.\n",
    "* Your goal is to generate a summary that will be shown in the user's smart watch. \n",
    "* Keep things short, but also interesting to the user. \n",
    "* Your summary should include a type of day, a title, some observations and recommendations for the user. \n",
    "* Your summary should be in JSON format. Only output the JSON, no other text.\n",
    "\n",
    "---JSON SCHEMA---\n",
    "{DailySummary.model_json_schema()}\n",
    "---END JSON SCHEMA---\n",
    "\n",
    "---EXAMPLE JSON OUTPUTS---\n",
    "{examples_str}\n",
    "---END EXAMPLE JSON OUTPUTS---\n",
    "\"\"\""
   ]
  },
  {
   "cell_type": "code",
   "execution_count": 13,
   "id": "28433465",
   "metadata": {},
   "outputs": [],
   "source": [
    "def llm(\n",
    "    messages: list[dict], model: str, response_format: dict | None = None\n",
    ") -> tuple[dict, str | None]:\n",
    "    client = OpenAI(\n",
    "        api_key=os.environ[\"DEEPSEEK_API_KEY\"],\n",
    "        base_url=\"https://api.deepseek.com\",\n",
    "    )\n",
    "    response = client.chat.completions.create(\n",
    "        model=model, messages=messages, response_format=response_format, temperature=0.0\n",
    "    )\n",
    "    message = response.choices[0].message\n",
    "\n",
    "    if hasattr(message, \"reasoning_content\"):\n",
    "        reasoning_content = message.reasoning_content\n",
    "    else:\n",
    "        reasoning_content = None\n",
    "\n",
    "    return json.loads(message.content), reasoning_content"
   ]
  },
  {
   "cell_type": "code",
   "execution_count": 14,
   "id": "0ff0b2ac",
   "metadata": {},
   "outputs": [],
   "source": [
    "# messages = [\n",
    "#     {\"role\": \"system\", \"content\": system_prompt},\n",
    "#     {\"role\": \"user\", \"content\": prompt},\n",
    "# ]\n",
    "\n",
    "\n",
    "# response, reasoning = llm(messages, \"deepseek-chat\", {\"type\": \"json_object\"})\n",
    "# health_summary = DailySummary.model_validate(response)\n",
    "# print(\"=\" * 10, \"Reasoning\", \"=\" * 10)\n",
    "# print(reasoning)\n",
    "# print(\"=\" * 10, \"Health Summary\", \"=\" * 10)\n",
    "# print(health_summary)"
   ]
  },
  {
   "cell_type": "code",
   "execution_count": 15,
   "id": "777be456",
   "metadata": {},
   "outputs": [],
   "source": [
    "# response, reasoning = llm(messages, \"deepseek-reasoner\", {\"type\": \"json_object\"})\n",
    "# health_summary = DailySummary.model_validate(response)\n",
    "# print(\"=\" * 10, \"Reasoning\", \"=\" * 10)\n",
    "# print(reasoning)\n",
    "# print(\"=\" * 10, \"Health Summary\", \"=\" * 10)\n",
    "# print(health_summary)"
   ]
  },
  {
   "cell_type": "code",
   "execution_count": 16,
   "id": "5f58ee6e",
   "metadata": {},
   "outputs": [],
   "source": [
    "def get_daily_summary(\n",
    "    garmin: Garmin,\n",
    "    date: str,\n",
    "    model: Literal[\"deepseek-chat\", \"deepseek-reasoner\"],\n",
    "    verbose: bool = False,\n",
    ") -> DailySummary:\n",
    "    date_for_summary = datetime.datetime.strptime(date, \"%Y-%m-%d\").date()\n",
    "    summary_in_date = get_daily_health_summary(\n",
    "        garmin, date_for_summary, date_for_summary\n",
    "    )\n",
    "\n",
    "    past_period_start = date_for_summary - datetime.timedelta(days=7)\n",
    "    past_period_end = date_for_summary - datetime.timedelta(days=1)\n",
    "    summary_in_past_period = get_daily_health_summary(\n",
    "        garmin, past_period_start, past_period_end\n",
    "    )\n",
    "\n",
    "    prompt = build_llm_context_md(summary_in_date, summary_in_past_period)\n",
    "\n",
    "    messages = [\n",
    "        {\"role\": \"system\", \"content\": system_prompt},\n",
    "        {\"role\": \"user\", \"content\": prompt},\n",
    "    ]\n",
    "    response, reasoning = llm(messages, model, {\"type\": \"json_object\"})\n",
    "    health_summary = DailySummary.model_validate(response)\n",
    "\n",
    "    if verbose is True:\n",
    "        print(f\"Date of summary: {date_for_summary}\")\n",
    "        print(f\"Baseline period: {past_period_start} to {past_period_end}\")\n",
    "        print(\"=\" * 10, \"Reasoning\", \"=\" * 10)\n",
    "        print(reasoning)\n",
    "        print(\"=\" * 10, \"Health Summary\", \"=\" * 10)\n",
    "        print(health_summary)\n",
    "\n",
    "    return health_summary"
   ]
  },
  {
   "cell_type": "code",
   "execution_count": 17,
   "id": "e5f04e1a",
   "metadata": {},
   "outputs": [
    {
     "data": {
      "text/plain": [
       "DailySummary(day_type=<DayType.HIGH_STRESS: 'high_stress'>, title='High stress day with significant rest but low activity.', emoji='😟', observation='Despite a good 9.09 hours of sleep, your stress levels were 19.8% higher than usual and your resting heart rate increased by 11.0%. Steps and distance were significantly lower, indicating minimal physical activity.', recommendation='Focus on stress-reducing activities like meditation or light yoga to help lower your resting heart rate. Consider incorporating a short walk or gentle exercise tomorrow to balance your activity levels and reduce stress.')"
      ]
     },
     "execution_count": 17,
     "metadata": {},
     "output_type": "execute_result"
    }
   ],
   "source": [
    "get_daily_summary(garmin, \"2025-08-13\", \"deepseek-chat\")"
   ]
  },
  {
   "cell_type": "code",
   "execution_count": 18,
   "id": "0340f48c",
   "metadata": {},
   "outputs": [
    {
     "name": "stdout",
     "output_type": "stream",
     "text": [
      "Date of summary: 2025-08-13\n",
      "Baseline period: 2025-08-06 to 2025-08-12\n",
      "========== Reasoning ==========\n",
      "First, I need to understand the user's health data for today. Here's a summary:\n",
      "\n",
      "- **Resting Heart Rate**: 62 (up 11% from baseline 55.86, trend up)\n",
      "- **Exercise Minutes**: 0 (down 100% from baseline 3.00, trend up)\n",
      "- **Stress Level**: 38 (up 19.8% from baseline 31.71, trend up)\n",
      "- **Sleep Hours**: 9.09 (up 10.7% from baseline 8.21, trend up)\n",
      "- **Steps**: 1866 (down 69.6% from baseline 6148.14, trend down)\n",
      "- **Total Distance Meters**: 1387 (down 69.7% from baseline 4573.57, trend down)\n",
      "- **Body Battery Start Day**: 74 (down 20.3% from baseline 92.86, trend flat)\n",
      "- **Body Battery End Day**: 17 (down 26.5% from baseline 23.14, trend up)\n",
      "\n",
      "Now, I need to classify the day type based on activity and recovery metrics. The options are: training, active_recovery, rest, high_stress, balanced.\n",
      "\n",
      "- Exercise minutes are 0, which is very low, down 100% from baseline.\n",
      "- Steps and distance are significantly down, around 70% lower.\n",
      "- Stress level is up 19.8%, and resting heart rate is up 11%, which are higher than baseline.\n",
      "- Sleep hours are up 10.7%, which is good, but body battery start is down 20.3% and end is down 26.5%, indicating poor recovery.\n",
      "- Body battery end is 17, which is quite low, and baseline average end is 23.14.\n",
      "\n",
      "This suggests a day with low activity but high stress and poor recovery. Body battery started lower and ended even lower, stress is higher, and no exercise. This fits the \"high_stress\" day type, similar to the example where stress was elevated despite minimal activity.\n",
      "\n",
      "Day type: Probably \"high_stress\".\n",
      "\n",
      "Now, for the JSON output, I need:\n",
      "- day_type: string from enum\n",
      "- title: one-sentence summary\n",
      "- emoji: to represent the day type\n",
      "- observation: two-sentence observation about key metrics\n",
      "- recommendation: two-sentence actionable recommendation for tomorrow\n",
      "\n",
      "Key points from data:\n",
      "- No exercise, low steps/distance.\n",
      "- Higher stress and resting heart rate.\n",
      "- More sleep, but body battery depleted significantly.\n",
      "- Body battery start was 74 vs baseline 92.86, end was 17 vs 23.14.\n",
      "\n",
      "Observation should highlight:\n",
      "- Stress increased despite no physical activity.\n",
      "- Body battery drained a lot.\n",
      "\n",
      "Recommendation:\n",
      "- Focus on stress management and recovery.\n",
      "- Suggestion for tomorrow, like light activity or rest.\n",
      "\n",
      "Emoji: For high_stress, in the example it was \"😫\", so I can use that or similar.\n",
      "\n",
      "Title: Should be concise. Something like \"High stress day with poor recovery despite extra sleep.\"\n",
      "\n",
      "Crafting the JSON:\n",
      "\n",
      "- day_type: \"high_stress\"\n",
      "- title: One sentence. E.g., \"Elevated stress and significant energy drain without physical exertion.\"\n",
      "- emoji: \"😫\" (as in example)\n",
      "- observation: Two sentences. E.g., \"Stress levels rose 20% above baseline, and resting heart rate was higher, while physical activity was minimal. Despite getting more sleep, body battery depleted from 74 to 17, indicating poor recovery.\"\n",
      "- recommendation: Two sentences. E.g., \"Prioritize stress-reducing activities and ensure adequate sleep tonight. Consider a rest day or light movement like walking tomorrow to help recharge.\"\n",
      "\n",
      "Ensure it's short and interesting.\n",
      "\n",
      "Finalizing:\n",
      "- day_type: \"high_stress\" – confirmed by high stress, low activity, poor body battery.\n",
      "- title: \"High stress day with depleted energy despite increased sleep.\"\n",
      "- emoji: \"😫\"\n",
      "- observation: \"Stress increased nearly 20% and resting heart rate was elevated, even with zero exercise minutes. Body battery dropped significantly from 74 to 17, showing poor recovery despite 9 hours of sleep.\"\n",
      "- recommendation: \"Focus on relaxation techniques and aim for quality sleep to recover. Tomorrow, opt for gentle activities like yoga or a short walk to manage stress without overexertion.\"\n",
      "\n",
      "Make sure observation and recommendation are exactly two sentences each.\n",
      "\n",
      "Observation:\n",
      "1. Stress levels rose 19.8% above baseline and resting heart rate increased, despite no physical activity.\n",
      "2. Body battery started lower and ended at 17, indicating poor recovery, even with 9.09 hours of sleep.\n",
      "\n",
      "Recommendation:\n",
      "1. Engage in stress management practices and prioritize deep sleep tonight.\n",
      "2. Plan for a restful day tomorrow with light movement to aid recovery.\n",
      "\n",
      "Now, output only JSON.\n",
      "========== Health Summary ==========\n",
      "day_type=<DayType.HIGH_STRESS: 'high_stress'> title='High stress day with depleted energy despite increased sleep.' emoji='😫' observation='Stress levels rose nearly 20% above baseline and resting heart rate increased by 11%, even with zero exercise and low step count. Body battery drained significantly from 74 to 17, showing poor recovery despite getting over 9 hours of sleep.' recommendation='Focus on stress-reducing activities like meditation or deep breathing to recharge tonight. Aim for a rest day tomorrow with light movement, such as a short walk, to help restore energy without adding strain.'\n"
     ]
    },
    {
     "data": {
      "text/plain": [
       "DailySummary(day_type=<DayType.HIGH_STRESS: 'high_stress'>, title='High stress day with depleted energy despite increased sleep.', emoji='😫', observation='Stress levels rose nearly 20% above baseline and resting heart rate increased by 11%, even with zero exercise and low step count. Body battery drained significantly from 74 to 17, showing poor recovery despite getting over 9 hours of sleep.', recommendation='Focus on stress-reducing activities like meditation or deep breathing to recharge tonight. Aim for a rest day tomorrow with light movement, such as a short walk, to help restore energy without adding strain.')"
      ]
     },
     "execution_count": 18,
     "metadata": {},
     "output_type": "execute_result"
    }
   ],
   "source": [
    "get_daily_summary(garmin, \"2025-08-13\", \"deepseek-reasoner\", verbose=True)"
   ]
  },
  {
   "cell_type": "code",
   "execution_count": null,
   "id": "7e9559fb",
   "metadata": {},
   "outputs": [],
   "source": []
  }
 ],
 "metadata": {
  "kernelspec": {
   "display_name": ".venv",
   "language": "python",
   "name": "python3"
  },
  "language_info": {
   "codemirror_mode": {
    "name": "ipython",
    "version": 3
   },
   "file_extension": ".py",
   "mimetype": "text/x-python",
   "name": "python",
   "nbconvert_exporter": "python",
   "pygments_lexer": "ipython3",
   "version": "3.12.6"
  }
 },
 "nbformat": 4,
 "nbformat_minor": 5
}
