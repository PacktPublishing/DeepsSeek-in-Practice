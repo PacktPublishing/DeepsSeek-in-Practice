{
 "cells": [
  {
   "cell_type": "code",
   "execution_count": 1,
   "id": "4e73d1dd",
   "metadata": {},
   "outputs": [],
   "source": [
    "import boto3\n",
    "import sagemaker\n",
    "import os\n",
    "import time\n",
    "import jupyter_black\n",
    "\n",
    "jupyter_black.load()"
   ]
  },
  {
   "cell_type": "code",
   "execution_count": 2,
   "id": "e8c926cc",
   "metadata": {},
   "outputs": [],
   "source": [
    "boto_session = boto3.session.Session()\n",
    "region = boto_session.region_name\n",
    "sess = sagemaker.Session()"
   ]
  },
  {
   "cell_type": "code",
   "execution_count": null,
   "id": "442e9368",
   "metadata": {},
   "outputs": [],
   "source": [
    "# Replace with your own role ARN\n",
    "BEDROCK_ROLE_ARN = \"arn:aws:iam::427525985442:role/DuarteStack-DuarteBedrockSageMakerRoleFF6A8A20-qn1nlHfunLaT\"\n",
    "CONFIG = {\n",
    "    \"INSTANCE_TYPE\": \"ml.g6.12xlarge\",\n",
    "    \"ENV\": {\n",
    "        \"HF_MODEL_ID\": \"deepseek-ai/DeepSeek-R1-Distill-Qwen-14B\",  # model to deploy\n",
    "        \"TENSOR_PARALLEL_DEGREE\": \"max\",  # use all GPUs\n",
    "        \"OPTION_ENABLE_REASONING\": \"true\",\n",
    "        \"OPTION_REASONING_PARSER\": \"deepseek_r1\",\n",
    "    },\n",
    "    \"IMAGE_NAME\": \"djl-inference:0.33.0-lmi15.0.0-cu128\",\n",
    "    \"BEDROCK_ROLE_ARN\": BEDROCK_ROLE_ARN,\n",
    "}"
   ]
  },
  {
   "cell_type": "code",
   "execution_count": 4,
   "id": "55ee4b86",
   "metadata": {},
   "outputs": [
    {
     "name": "stdout",
     "output_type": "stream",
     "text": [
      "base_model_name='DeepSeek-R1-Distill-Qwen-14B-2025-08-24-08-52-31-391'\n",
      "current_region='eu-central-1'\n",
      "inference_image_uri='763104351884.dkr.ecr.eu-central-1.amazonaws.com/djl-inference:0.33.0-lmi15.0.0-cu128'\n",
      "endpoint_name='DeepSeek-R1-Distill-Qwen-14B-2025-08-24-08-52-31-391-endpoint'\n"
     ]
    }
   ],
   "source": [
    "ts = time.time()\n",
    "hf_model_id = CONFIG[\"ENV\"][\"HF_MODEL_ID\"]\n",
    "model_name = hf_model_id.split(\"/\")[-1]\n",
    "base_model_name = sagemaker.utils.name_from_base(model_name)\n",
    "print(f\"{base_model_name=}\")\n",
    "\n",
    "\n",
    "current_region = os.environ[\"AWS_DEFAULT_REGION\"]\n",
    "print(f\"{current_region=}\")\n",
    "\n",
    "image_name = CONFIG[\"IMAGE_NAME\"]\n",
    "inference_image_uri = (\n",
    "    f\"763104351884.dkr.ecr.{current_region}.amazonaws.com/{image_name}\"\n",
    ")\n",
    "print(f\"{inference_image_uri=}\")\n",
    "\n",
    "lmi_model = sagemaker.Model(\n",
    "    image_uri=inference_image_uri,\n",
    "    env=CONFIG[\"ENV\"],\n",
    "    role=CONFIG[\"BEDROCK_ROLE_ARN\"],\n",
    "    name=base_model_name,\n",
    ")\n",
    "\n",
    "endpoint_name = f\"{base_model_name}-endpoint\"\n",
    "print(f\"{endpoint_name=}\")"
   ]
  },
  {
   "cell_type": "code",
   "execution_count": 5,
   "id": "480a76e9",
   "metadata": {},
   "outputs": [
    {
     "name": "stdout",
     "output_type": "stream",
     "text": [
      "----------------!"
     ]
    }
   ],
   "source": [
    "lmi_model.deploy(\n",
    "    initial_instance_count=1,\n",
    "    instance_type=CONFIG[\"INSTANCE_TYPE\"],\n",
    "    container_startup_health_check_timeout=900,\n",
    "    endpoint_name=endpoint_name,\n",
    ")"
   ]
  },
  {
   "cell_type": "code",
   "execution_count": 8,
   "id": "d34ac344",
   "metadata": {},
   "outputs": [],
   "source": [
    "llm = sagemaker.Predictor(\n",
    "    endpoint_name=endpoint_name,\n",
    "    sagemaker_session=sess,\n",
    "    serializer=sagemaker.serializers.JSONSerializer(),\n",
    "    deserializer=sagemaker.deserializers.JSONDeserializer(),\n",
    ")"
   ]
  },
  {
   "cell_type": "code",
   "execution_count": 9,
   "id": "f40f1b59",
   "metadata": {},
   "outputs": [],
   "source": [
    "TEMPERATURE = 0.01\n",
    "MAX_TOKENS = 1024"
   ]
  },
  {
   "cell_type": "code",
   "execution_count": 10,
   "id": "d58a32ae",
   "metadata": {},
   "outputs": [
    {
     "data": {
      "text/plain": [
       "{'id': 'chatcmpl-139944987601104',\n",
       " 'object': 'chat.completion',\n",
       " 'created': 1756025028,\n",
       " 'choices': [{'index': 0,\n",
       "   'message': {'role': 'assistant',\n",
       "    'reasoning_content': \"Okay, so I need to figure out what the capital of Le Marche, Italy is. I'm not super familiar with all the regions of Italy, but I know that Italy is divided into different regions, each with its own capital city. Le Marche is one of those regions, and I think it's in the central part of Italy. \\n\\nI remember that some regions have capitals that are pretty well-known. For example, Rome is the capital of Lazio, and Venice is the capital of Veneto. But I'm not sure about Le Marche. I think the capital might be a city that's not as famous as Rome or Venice, but still significant enough to be the regional capital.\\n\\nI've heard of a few cities in Le Marche before. Urbino comes to mind because I think it's known for its medieval architecture and maybe some universities. There's also Ancona, which I believe is a port city on the Adriatic Sea. I'm not sure which one is the capital, though. \\n\\nI should probably think about the geography of Le Marche. It's a region on the eastern side of Italy, bordering the Adriatic Sea. The cities in this region are probably more inland or along the coast. Urbino is inland, while Ancona is a coastal city. I'm not sure if the capital is more likely to be inland or coastal. \\n\\nI also recall that some regions have their capitals in larger cities, while others might have smaller ones. Le Marche isn't one of the largest regions, so maybe its capital isn't a huge city. Urbino is a smaller city, but it's quite historic. Ancona, on the other hand, is a significant port and might be a bigger city. \\n\\nWait, I think I've heard that Ancona is the capital of Le Marche. But I'm not 100% certain. Maybe I should try to remember any other clues. For example, Urbino is famous for being the birthplace of Raphael, the Renaissance painter. That's a notable fact, but does that make it the capital? Not necessarily. \\n\\nAnother approach is to think about administrative regions. The capital is usually where the regional government is located. So, if I imagine the regional offices, they might be in a city that's centrally located or a major city in the region. Ancona is a major port and probably a bigger city, so it makes sense as a capital. \\n\\nI'm trying to recall if I've seen any maps of Italy that label the capitals. I think Ancona is labeled as the capital of Le Marche. Urbino is more of a tourist spot, known for its art and history, but not necessarily the administrative center. \\n\\nWait, I'm a bit confused because I think I've heard both Ancona and Urbino mentioned in the context of Le Marche. Maybe I should check which one is actually the capital. But since I can't look it up right now, I'll have to go with my best guess. \\n\\nConsidering that Ancona is a larger city and a major port, it's more likely to be the administrative center. Urbino, while important, is more of a cultural and historical hub. So, I'm going to conclude that Ancona is the capital of Le Marche.\\n\",\n",
       "    'content': '\\n\\nThe capital of Le Marche, Italy, is Ancona.'},\n",
       "   'logprobs': None,\n",
       "   'finish_reason': 'eos_token'}],\n",
       " 'usage': {'prompt_tokens': 16, 'completion_tokens': 688, 'total_tokens': 704}}"
      ]
     },
     "execution_count": 10,
     "metadata": {},
     "output_type": "execute_result"
    }
   ],
   "source": [
    "llm.predict(\n",
    "    {\n",
    "        \"messages\": [\n",
    "            {\n",
    "                \"role\": \"user\",\n",
    "                \"content\": \"What is the capital of Le Marche, Italy?\",\n",
    "            }\n",
    "        ],\n",
    "        \"temperature\": TEMPERATURE,\n",
    "        \"max_tokens\": MAX_TOKENS,\n",
    "    }\n",
    ")"
   ]
  },
  {
   "cell_type": "code",
   "execution_count": 11,
   "id": "1c2070fc",
   "metadata": {},
   "outputs": [],
   "source": [
    "from pydantic import BaseModel\n",
    "from enum import Enum\n",
    "\n",
    "\n",
    "class Difficulty(str, Enum):\n",
    "    easy = \"easy\"\n",
    "    medium = \"medium\"\n",
    "    hard = \"hard\"\n",
    "\n",
    "\n",
    "class Step(BaseModel):\n",
    "    explanation: str\n",
    "    output: str\n",
    "\n",
    "\n",
    "class MathReasoning(BaseModel):\n",
    "    steps: list[Step]\n",
    "    final_answer: str\n",
    "    difficulty: Difficulty"
   ]
  },
  {
   "cell_type": "code",
   "execution_count": 12,
   "id": "557d8924",
   "metadata": {},
   "outputs": [],
   "source": [
    "messages = [\n",
    "    {\n",
    "        \"role\": \"system\",\n",
    "        \"content\": \"You are a helpful assistant that generates JSON responses. You output only json, no other text. Guide the user through the solution step by step.\",\n",
    "    },\n",
    "    {\n",
    "        \"role\": \"user\",\n",
    "        \"content\": \"how can I solve 8x + 7 = -23\",\n",
    "    },\n",
    "]"
   ]
  },
  {
   "cell_type": "code",
   "execution_count": 13,
   "id": "02e21988",
   "metadata": {},
   "outputs": [
    {
     "data": {
      "text/plain": [
       "{'id': 'chatcmpl-139944953052480',\n",
       " 'object': 'chat.completion',\n",
       " 'created': 1756025055,\n",
       " 'choices': [{'index': 0,\n",
       "   'message': {'role': 'assistant',\n",
       "    'reasoning_content': \"Okay, so I need to solve the equation 8x + 7 = -23. Hmm, let me think about how to approach this. I remember from algebra that to solve for x, I need to isolate it on one side of the equation. \\n\\nFirst, I should probably get rid of that 7 that's being added to 8x. To do that, I can subtract 7 from both sides of the equation. That way, I'm keeping things balanced. So if I subtract 7 from both sides, it would look like this: 8x + 7 - 7 = -23 - 7. Simplifying that, the +7 and -7 on the left side cancel each other out, leaving just 8x. On the right side, -23 minus 7 is -30. So now the equation is 8x = -30.\\n\\nNext, I need to get x by itself. Since 8 is multiplied by x, I should divide both sides by 8 to undo that multiplication. So, dividing both sides by 8 gives me (8x)/8 = -30/8. On the left side, 8 divided by 8 is 1, so it's just x. On the right side, -30 divided by 8 is... let me calculate that. 30 divided by 8 is 3.75, so with the negative sign, it's -3.75. Alternatively, as a fraction, -30/8 can be simplified by dividing numerator and denominator by 2, which gives -15/4. \\n\\nWait, let me double-check my steps. Starting with 8x + 7 = -23. Subtract 7 from both sides: 8x = -23 -7, which is -30. Then divide both sides by 8: x = -30/8, which simplifies to -15/4 or -3.75. Yeah, that seems right. \\n\\nI think I did everything correctly. I isolated x by first subtracting 7 and then dividing by 8. The solution makes sense because if I plug x = -15/4 back into the original equation, it should satisfy it. Let me test that quickly. \\n\\nCalculating 8*(-15/4) + 7: 8 divided by 4 is 2, so 2*(-15) is -30. Then, -30 +7 is -23, which matches the right side of the equation. So yes, x = -15/4 is the correct solution.\\n\",\n",
       "    'content': '\\n\\nTo solve the equation \\\\(8x + 7 = -23\\\\), follow these steps:\\n\\n1. **Subtract 7 from both sides** to isolate the term with \\\\(x\\\\):\\n   \\\\[\\n   8x + 7 - 7 = -23 - 7\\n   \\\\]\\n   Simplifying:\\n   \\\\[\\n   8x = -30\\n   \\\\]\\n\\n2. **Divide both sides by 8** to solve for \\\\(x\\\\):\\n   \\\\[\\n   x = \\\\frac{-30}{8}\\n   \\\\]\\n   Simplifying the fraction:\\n   \\\\[\\n   x = -\\\\frac{15}{4}\\n   \\\\]\\n   Or as a decimal:\\n   \\\\[\\n   x = -3.75\\n   \\\\]\\n\\n**Answer:** \\\\(x = -\\\\frac{15}{4}\\\\) or \\\\(x = -3.75\\\\)\\n\\n```json\\n{\\n  \"solution\": {\\n    \"x\": \"-15/4\",\\n    \"decimal\": \"-3.75\",\\n    \"steps\": [\\n      \"Subtract 7 from both sides: 8x = -30\",\\n      \"Divide both sides by 8: x = -30/8 = -15/4\"\\n    ]\\n  }\\n}\\n```'},\n",
       "   'logprobs': None,\n",
       "   'finish_reason': 'eos_token'}],\n",
       " 'usage': {'prompt_tokens': 48, 'completion_tokens': 826, 'total_tokens': 874}}"
      ]
     },
     "execution_count": 13,
     "metadata": {},
     "output_type": "execute_result"
    }
   ],
   "source": [
    "response = llm.predict(\n",
    "    {\n",
    "        \"messages\": messages,\n",
    "        \"temperature\": TEMPERATURE,\n",
    "        \"max_tokens\": MAX_TOKENS,\n",
    "        \"extra_body\": {\"guided_json\": MathReasoning.model_json_schema()},\n",
    "    }\n",
    ")\n",
    "response"
   ]
  },
  {
   "cell_type": "code",
   "execution_count": 14,
   "id": "60f93cb7",
   "metadata": {},
   "outputs": [
    {
     "data": {
      "text/plain": [
       "{'id': 'chatcmpl-139944953052144',\n",
       " 'object': 'chat.completion',\n",
       " 'created': 1756025063,\n",
       " 'choices': [{'index': 0,\n",
       "   'message': {'role': 'assistant',\n",
       "    'reasoning_content': '{\\n  \"steps\": [\\n    {\\n      \"explanation\": \"First, subtract 7 from both sides to isolate the term with the variable.\",\\n      \"output\": \"8x = -23 - 7\"\\n    },\\n    {\\n      \"explanation\": \"Simplify the right side by combining the constants.\",\\n      \"output\": \"8x = -30\"\\n    },\\n    {\\n      \"explanation\": \"Next, divide both sides by 8 to solve for x.\",\\n      \"output\": \"x = -30 / 8\"\\n    },\\n    {\\n      \"explanation\": \"Simplify the fraction to get the final answer.\",\\n      \"output\": \"x = -15/4\"\\n    }\\n  ]\\n  , \"final_answer\": \"x = -15/4\"\\n  , \"difficulty\": \"medium\"\\n}',\n",
       "    'content': None},\n",
       "   'logprobs': None,\n",
       "   'finish_reason': 'eos_token'}],\n",
       " 'usage': {'prompt_tokens': 48, 'completion_tokens': 180, 'total_tokens': 228}}"
      ]
     },
     "execution_count": 14,
     "metadata": {},
     "output_type": "execute_result"
    }
   ],
   "source": [
    "response = llm.predict(\n",
    "    {\n",
    "        \"messages\": messages,\n",
    "        \"temperature\": TEMPERATURE,\n",
    "        \"max_tokens\": MAX_TOKENS,\n",
    "        \"response_format\": {\n",
    "            \"type\": \"json_schema\",\n",
    "            \"json_schema\": {\n",
    "                \"name\": \"math_reasoning\",\n",
    "                \"schema\": MathReasoning.model_json_schema(),\n",
    "                \"strict\": True,\n",
    "            },\n",
    "        },\n",
    "        \"extra_body\": {\"guided_decoding_backend\": \"outlines\"},\n",
    "    }\n",
    ")\n",
    "response"
   ]
  },
  {
   "cell_type": "code",
   "execution_count": 15,
   "id": "d6dbf586",
   "metadata": {},
   "outputs": [
    {
     "data": {
      "text/plain": [
       "{'id': 'chatcmpl-139944953200224',\n",
       " 'object': 'chat.completion',\n",
       " 'created': 1756025069,\n",
       " 'choices': [{'index': 0,\n",
       "   'message': {'role': 'assistant',\n",
       "    'reasoning_content': '{\\n  \"steps\": [\\n    {\\n      \"explanation\": \"First, subtract 7 from both sides to isolate the term with the variable.\",\\n      \"output\": \"8x = -23 - 7\"\\n    },\\n    {\\n      \"explanation\": \"Simplify the right side by performing the subtraction.\",\\n      \"output\": \"8x = -30\"\\n    },\\n    {\\n      \"explanation\": \"Next, divide both sides by 8 to solve for x.\",\\n      \"output\": \"x = -30 / 8\"\\n    },\\n    {\\n      \"explanation\": \"Simplify the fraction to get the final answer.\",\\n      \"output\": \"x = -15/4\"\\n    }\\n  ]\\n  , \"final_answer\": \"x = -15/4\"\\n  , \"difficulty\": \"medium\"\\n}',\n",
       "    'content': None},\n",
       "   'logprobs': None,\n",
       "   'finish_reason': 'eos_token'}],\n",
       " 'usage': {'prompt_tokens': 48, 'completion_tokens': 180, 'total_tokens': 228}}"
      ]
     },
     "execution_count": 15,
     "metadata": {},
     "output_type": "execute_result"
    }
   ],
   "source": [
    "response = llm.predict(\n",
    "    {\n",
    "        \"messages\": messages,\n",
    "        \"temperature\": TEMPERATURE,\n",
    "        \"max_tokens\": MAX_TOKENS,\n",
    "        \"response_format\": {\n",
    "            \"type\": \"json_schema\",\n",
    "            \"json_schema\": {\n",
    "                \"name\": \"math_reasoning\",\n",
    "                \"schema\": MathReasoning.model_json_schema(),\n",
    "                \"strict\": True,\n",
    "            },\n",
    "        },\n",
    "        \"extra_body\": {\"guided_decoding_backend\": \"xgrammar\"},\n",
    "    }\n",
    ")\n",
    "\n",
    "response"
   ]
  },
  {
   "cell_type": "code",
   "execution_count": 16,
   "id": "eb185aad",
   "metadata": {},
   "outputs": [
    {
     "data": {
      "text/plain": [
       "{'steps': [{'explanation': 'First, subtract 7 from both sides to isolate the term with the variable.',\n",
       "   'output': '8x = -23 - 7'},\n",
       "  {'explanation': 'Simplify the right side by performing the subtraction.',\n",
       "   'output': '8x = -30'},\n",
       "  {'explanation': 'Next, divide both sides by 8 to solve for x.',\n",
       "   'output': 'x = -30 / 8'},\n",
       "  {'explanation': 'Simplify the fraction to get the final answer.',\n",
       "   'output': 'x = -15/4'}],\n",
       " 'final_answer': 'x = -15/4',\n",
       " 'difficulty': <Difficulty.medium: 'medium'>}"
      ]
     },
     "execution_count": 16,
     "metadata": {},
     "output_type": "execute_result"
    }
   ],
   "source": [
    "MathReasoning.model_validate_json(\n",
    "    response[\"choices\"][0][\"message\"][\"reasoning_content\"]\n",
    ").model_dump()"
   ]
  },
  {
   "cell_type": "code",
   "execution_count": 6,
   "id": "ca9aeffc",
   "metadata": {},
   "outputs": [],
   "source": [
    "sess.delete_endpoint(endpoint_name)\n",
    "sess.delete_endpoint_config(endpoint_name)\n",
    "lmi_model.delete_model()"
   ]
  }
 ],
 "metadata": {
  "kernelspec": {
   "display_name": ".venv",
   "language": "python",
   "name": "python3"
  },
  "language_info": {
   "codemirror_mode": {
    "name": "ipython",
    "version": 3
   },
   "file_extension": ".py",
   "mimetype": "text/x-python",
   "name": "python",
   "nbconvert_exporter": "python",
   "pygments_lexer": "ipython3",
   "version": "3.12.6"
  }
 },
 "nbformat": 4,
 "nbformat_minor": 5
}
